{
  "nbformat": 4,
  "nbformat_minor": 0,
  "metadata": {
    "colab": {
      "name": "sesión 1",
      "provenance": [],
      "include_colab_link": true
    },
    "kernelspec": {
      "name": "python3",
      "display_name": "Python 3"
    },
    "language_info": {
      "name": "python"
    }
  },
  "cells": [
    {
      "cell_type": "markdown",
      "metadata": {
        "id": "view-in-github",
        "colab_type": "text"
      },
      "source": [
        "<a href=\"https://colab.research.google.com/github/yhojana/TAREA01U_M/blob/main/sesi%C3%B3n_1.ipynb\" target=\"_parent\"><img src=\"https://colab.research.google.com/assets/colab-badge.svg\" alt=\"Open In Colab\"/></a>"
      ]
    },
    {
      "cell_type": "code",
      "execution_count": null,
      "metadata": {
        "id": "ZAyupdzzB-Pw"
      },
      "outputs": [],
      "source": [
        "#Definir variables "
      ]
    },
    {
      "cell_type": "code",
      "source": [
        "descuento:float=0.20\n",
        "igv:float=0.18\n",
        "pbase:float \n",
        "pcd:float\n",
        "pf:float \n",
        "#Datos de entrada \n",
        "pbase=float (input(\"ingrese el precio base del articulo:\"))\n",
        "#proceso\n",
        "pcd=pbase-(pbase*descuento)\n",
        "igv=pcd*0.18\n",
        "pf=pcd+igv\n",
        "#datos de salida \n",
        "print(f\"el precio con descuento es:{pcd}\")\n",
        "print(f\"el precio final es:{pf}\")\n"
      ],
      "metadata": {
        "colab": {
          "base_uri": "https://localhost:8080/"
        },
        "id": "dBNLab0uEU4O",
        "outputId": "94a63814-020d-4247-8207-ad4c51e53f65"
      },
      "execution_count": null,
      "outputs": [
        {
          "output_type": "stream",
          "name": "stdout",
          "text": [
            "ingrese el precio base del articulo:3000\n",
            "el precio con descuento es:2400.0\n",
            "el precio final es:2832.0\n"
          ]
        }
      ]
    },
    {
      "cell_type": "code",
      "source": [
        "#Difinir edad "
      ],
      "metadata": {
        "id": "A_P3bnIXEfBH"
      },
      "execution_count": null,
      "outputs": []
    },
    {
      "cell_type": "code",
      "source": [
        "#DEFINIR VARIABLES\n",
        "intencidad:float\n",
        "resistencia:float=4\n",
        "potencia:float \n",
        "#datos de entrada \n",
        "intencidad=float(input(\"ingrese la intencidad:\"))\n",
        "#proceso\n",
        "potencia=resistencia*(intencidad*intencidad)\n",
        "#datos de salida\n",
        "print(f\" la potencia es :{potencia}\")\n",
        "\n",
        "\n",
        "\n"
      ],
      "metadata": {
        "colab": {
          "base_uri": "https://localhost:8080/"
        },
        "id": "yhN5L4CqRZFH",
        "outputId": "2dce7e1a-45d5-46b8-df69-ef7b5360d45a"
      },
      "execution_count": null,
      "outputs": [
        {
          "output_type": "stream",
          "name": "stdout",
          "text": [
            "ingrese la intencidad:13\n",
            " la potencia es :676.0\n"
          ]
        }
      ]
    },
    {
      "cell_type": "code",
      "source": [
        "#DEFINIR VARIABLES\n",
        "soles:float\n",
        "dolares:float =3.77\n",
        "valor:float\n",
        "#datos de entrada \n",
        "soles=float(input(\"ingrese la cantidad:\"))\n",
        "#proceso\n",
        "valor = soles/dolares\n",
        "\n",
        "#datos de salida\n",
        "print(f\" la cantida de dolares es :{valor}\")\n",
        "\n"
      ],
      "metadata": {
        "colab": {
          "base_uri": "https://localhost:8080/"
        },
        "id": "4fWNq_tBV_9W",
        "outputId": "cb6f65a3-7fb0-4cce-88a7-e8c46cb57053"
      },
      "execution_count": null,
      "outputs": [
        {
          "output_type": "stream",
          "name": "stdout",
          "text": [
            "ingrese la cantidad:20\n",
            " la cantida de dolares es :5.305039787798409\n"
          ]
        }
      ]
    }
  ]
}